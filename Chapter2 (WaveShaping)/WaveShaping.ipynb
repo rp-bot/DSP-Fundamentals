{
  "nbformat": 4,
  "nbformat_minor": 0,
  "metadata": {
    "colab": {
      "private_outputs": true,
      "provenance": [],
      "authorship_tag": "ABX9TyOiiXSkH1AMGVJMMeefQMpf",
      "include_colab_link": true
    },
    "kernelspec": {
      "name": "python3",
      "display_name": "Python 3"
    },
    "language_info": {
      "name": "python"
    }
  },
  "cells": [
    {
      "cell_type": "markdown",
      "metadata": {
        "id": "view-in-github",
        "colab_type": "text"
      },
      "source": [
        "<a href=\"https://colab.research.google.com/github/rp-bot/DSP-Fundamentals/blob/master/WaveShaping.ipynb\" target=\"_parent\"><img src=\"https://colab.research.google.com/assets/colab-badge.svg\" alt=\"Open In Colab\"/></a>"
      ]
    },
    {
      "cell_type": "markdown",
      "source": [
        "* Clipping: This technique involves limiting the amplitude of a waveform by \"clipping\" or \"chopping off\" the peaks of the waveform that exceed a certain threshold. This results in distortion as the clipped peaks are flattened, creating harmonics and altering the waveform's shape.\n",
        "\n",
        "* Soft Clipping: Soft clipping is a variation of clipping that involves gradually rounding off the peaks of a waveform as they approach the threshold, instead of abruptly clipping them. This creates a smoother distortion compared to hard clipping and can result in a more pleasing and musical distortion.\n",
        "\n",
        "* Overdrive: Overdrive is a form of distortion that emulates the behavior of overdriving an analog circuit, such as a tube amplifier. It involves applying a gain boost to the waveform that causes it to \"break up\" and create harmonics, resulting in a warm and rich distortion sound.\n",
        "\n",
        "* Wavefolding: Wavefolding is a technique that involves folding or bending the waveform back on itself when it exceeds a certain threshold. This results in the creation of new harmonics and complex waveforms, which can produce unique and interesting distortion effects.\n",
        "\n",
        "* Bitcrushing: Bitcrushing is a technique that involves reducing the bit depth of a digital waveform, effectively reducing its resolution. This results in a \"bit-reduced\" or \"lo-fi\" sound with quantization noise, which can create a harsh and gritty distortion effect.\n",
        "\n",
        "* Ring Modulation: Ring modulation is a technique that involves multiplying the input waveform with a modulating waveform to create sum and difference frequencies. This can result in a metallic or bell-like distortion effect with rich harmonics.\n",
        "\n",
        "* Feedback: Feedback is a technique that involves routing a portion of the output signal back into the input, causing the signal to be amplified and fed back on itself. This can result in self-oscillation and chaotic distortion effects.\n",
        "\n",
        "\n"
      ],
      "metadata": {
        "id": "EZgDqslpMPj8"
      }
    },
    {
      "cell_type": "code",
      "execution_count": null,
      "metadata": {
        "id": "Ivb0tZgRMLqo"
      },
      "outputs": [],
      "source": []
    }
  ]
}